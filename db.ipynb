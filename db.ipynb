{
 "cells": [
  {
   "cell_type": "code",
   "execution_count": null,
   "metadata": {},
   "outputs": [
    {
     "name": "stderr",
     "output_type": "stream",
     "text": [
      "/tmp/ipykernel_22906/3240770522.py:22: UserWarning: pandas only supports SQLAlchemy connectable (engine/connection) or database string URI or sqlite3 DBAPI2 connection. Other DBAPI2 objects are not tested. Please consider using SQLAlchemy.\n",
      "  df_tables = pd.read_sql(query_tables, conn)\n"
     ]
    },
    {
     "data": {
      "text/html": [
       "<div>\n",
       "<style scoped>\n",
       "    .dataframe tbody tr th:only-of-type {\n",
       "        vertical-align: middle;\n",
       "    }\n",
       "\n",
       "    .dataframe tbody tr th {\n",
       "        vertical-align: top;\n",
       "    }\n",
       "\n",
       "    .dataframe thead th {\n",
       "        text-align: right;\n",
       "    }\n",
       "</style>\n",
       "<table border=\"1\" class=\"dataframe\">\n",
       "  <thead>\n",
       "    <tr style=\"text-align: right;\">\n",
       "      <th></th>\n",
       "      <th>TABLE_NAME</th>\n",
       "    </tr>\n",
       "  </thead>\n",
       "  <tbody>\n",
       "    <tr>\n",
       "      <th>0</th>\n",
       "      <td>PhoneNumberType</td>\n",
       "    </tr>\n",
       "    <tr>\n",
       "      <th>1</th>\n",
       "      <td>EmailAddress</td>\n",
       "    </tr>\n",
       "    <tr>\n",
       "      <th>2</th>\n",
       "      <td>BusinessEntity</td>\n",
       "    </tr>\n",
       "    <tr>\n",
       "      <th>3</th>\n",
       "      <td>PersonPhone</td>\n",
       "    </tr>\n",
       "    <tr>\n",
       "      <th>4</th>\n",
       "      <td>CountryRegion</td>\n",
       "    </tr>\n",
       "    <tr>\n",
       "      <th>...</th>\n",
       "      <td>...</td>\n",
       "    </tr>\n",
       "    <tr>\n",
       "      <th>66</th>\n",
       "      <td>ErrorLog</td>\n",
       "    </tr>\n",
       "    <tr>\n",
       "      <th>67</th>\n",
       "      <td>EmployeeDepartmentHistory</td>\n",
       "    </tr>\n",
       "    <tr>\n",
       "      <th>68</th>\n",
       "      <td>Address</td>\n",
       "    </tr>\n",
       "    <tr>\n",
       "      <th>69</th>\n",
       "      <td>BusinessEntityAddress</td>\n",
       "    </tr>\n",
       "    <tr>\n",
       "      <th>70</th>\n",
       "      <td>BusinessEntityContact</td>\n",
       "    </tr>\n",
       "  </tbody>\n",
       "</table>\n",
       "<p>71 rows × 1 columns</p>\n",
       "</div>"
      ],
      "text/plain": [
       "                   TABLE_NAME\n",
       "0             PhoneNumberType\n",
       "1                EmailAddress\n",
       "2              BusinessEntity\n",
       "3                 PersonPhone\n",
       "4               CountryRegion\n",
       "..                        ...\n",
       "66                   ErrorLog\n",
       "67  EmployeeDepartmentHistory\n",
       "68                    Address\n",
       "69      BusinessEntityAddress\n",
       "70      BusinessEntityContact\n",
       "\n",
       "[71 rows x 1 columns]"
      ]
     },
     "execution_count": 1,
     "metadata": {},
     "output_type": "execute_result"
    }
   ],
   "source": [
    "import os\n",
    "import pandas as pd\n",
    "from sqlalchemy import create_engine\n",
    "import pyodbc\n",
    "\n",
    "conn = pyodbc.connect(\n",
    "    'DRIVER={ODBC Driver 18 for SQL Server};'\n",
    "    'SERVER=adventureworks-server-hdf.database.windows.net;'\n",
    "    'DATABASE=adventureworks;'\n",
    "    'UID=jvcb;'\n",
    "    'PWD=cbjv592023!;'\n",
    ")\n",
    "\n",
    "# Requête pour récupérer les noms des tables\n",
    "query_tables = \"\"\"\n",
    "SELECT TABLE_NAME\n",
    "FROM INFORMATION_SCHEMA.TABLES\n",
    "WHERE TABLE_TYPE = 'BASE TABLE'\n",
    "\"\"\"\n",
    "\n",
    "# Exécuter la requête et charger les résultats dans un DataFrame\n",
    "df_tables = pd.read_sql(query_tables, conn)\n",
    "\n",
    "# Afficher les tables\n",
    "df_tables"
   ]
  },
  {
   "cell_type": "code",
   "execution_count": 2,
   "metadata": {},
   "outputs": [
    {
     "name": "stderr",
     "output_type": "stream",
     "text": [
      "/tmp/ipykernel_22906/2640586081.py:5: UserWarning: pandas only supports SQLAlchemy connectable (engine/connection) or database string URI or sqlite3 DBAPI2 connection. Other DBAPI2 objects are not tested. Please consider using SQLAlchemy.\n",
      "  df = pd.read_sql(query, conn)\n"
     ]
    },
    {
     "data": {
      "text/html": [
       "<div>\n",
       "<style scoped>\n",
       "    .dataframe tbody tr th:only-of-type {\n",
       "        vertical-align: middle;\n",
       "    }\n",
       "\n",
       "    .dataframe tbody tr th {\n",
       "        vertical-align: top;\n",
       "    }\n",
       "\n",
       "    .dataframe thead th {\n",
       "        text-align: right;\n",
       "    }\n",
       "</style>\n",
       "<table border=\"1\" class=\"dataframe\">\n",
       "  <thead>\n",
       "    <tr style=\"text-align: right;\">\n",
       "      <th></th>\n",
       "      <th>PhoneNumberTypeID</th>\n",
       "      <th>Name</th>\n",
       "      <th>ModifiedDate</th>\n",
       "    </tr>\n",
       "  </thead>\n",
       "  <tbody>\n",
       "    <tr>\n",
       "      <th>0</th>\n",
       "      <td>1</td>\n",
       "      <td>Cell</td>\n",
       "      <td>2017-12-13 13:19:22.273</td>\n",
       "    </tr>\n",
       "    <tr>\n",
       "      <th>1</th>\n",
       "      <td>2</td>\n",
       "      <td>Home</td>\n",
       "      <td>2017-12-13 13:19:22.273</td>\n",
       "    </tr>\n",
       "    <tr>\n",
       "      <th>2</th>\n",
       "      <td>3</td>\n",
       "      <td>Work</td>\n",
       "      <td>2017-12-13 13:19:22.273</td>\n",
       "    </tr>\n",
       "  </tbody>\n",
       "</table>\n",
       "</div>"
      ],
      "text/plain": [
       "   PhoneNumberTypeID  Name            ModifiedDate\n",
       "0                  1  Cell 2017-12-13 13:19:22.273\n",
       "1                  2  Home 2017-12-13 13:19:22.273\n",
       "2                  3  Work 2017-12-13 13:19:22.273"
      ]
     },
     "execution_count": 2,
     "metadata": {},
     "output_type": "execute_result"
    }
   ],
   "source": [
    "# Nom de la table à charger\n",
    "nom_table = \"Person.PhoneNumberType\"\n",
    "\n",
    "query = f\"SELECT * FROM {nom_table}\"\n",
    "df = pd.read_sql(query, conn)\n",
    "\n",
    "df"
   ]
  },
  {
   "cell_type": "code",
   "execution_count": 3,
   "metadata": {},
   "outputs": [],
   "source": [
    "output_dir = 'csv'\n",
    "if not os.path.exists(output_dir):\n",
    "    os.makedirs(output_dir)"
   ]
  },
  {
   "cell_type": "code",
   "execution_count": 4,
   "metadata": {},
   "outputs": [
    {
     "name": "stderr",
     "output_type": "stream",
     "text": [
      "/tmp/ipykernel_22906/2104957209.py:7: UserWarning: pandas only supports SQLAlchemy connectable (engine/connection) or database string URI or sqlite3 DBAPI2 connection. Other DBAPI2 objects are not tested. Please consider using SQLAlchemy.\n",
      "  df_tables = pd.read_sql(query_tables, conn)\n",
      "/tmp/ipykernel_22906/2104957209.py:15: UserWarning: pandas only supports SQLAlchemy connectable (engine/connection) or database string URI or sqlite3 DBAPI2 connection. Other DBAPI2 objects are not tested. Please consider using SQLAlchemy.\n",
      "  df = pd.read_sql(query, conn)\n"
     ]
    },
    {
     "name": "stdout",
     "output_type": "stream",
     "text": [
      "Table Person.PhoneNumberType exportée avec succès dans csv/Person_PhoneNumberType.csv\n"
     ]
    },
    {
     "name": "stdout",
     "output_type": "stream",
     "text": [
      "Table Person.EmailAddress exportée avec succès dans csv/Person_EmailAddress.csv\n",
      "Table Person.BusinessEntity exportée avec succès dans csv/Person_BusinessEntity.csv\n",
      "Table Person.PersonPhone exportée avec succès dans csv/Person_PersonPhone.csv\n",
      "Table Person.CountryRegion exportée avec succès dans csv/Person_CountryRegion.csv\n",
      "Table Person.Password exportée avec succès dans csv/Person_Password.csv\n",
      "Table Person.Person exportée avec succès dans csv/Person_Person.csv\n",
      "Table Person.AddressType exportée avec succès dans csv/Person_AddressType.csv\n",
      "Table Person.ContactType exportée avec succès dans csv/Person_ContactType.csv\n",
      "Table Person.StateProvince exportée avec succès dans csv/Person_StateProvince.csv\n",
      "Table Production.ProductInventory exportée avec succès dans csv/Production_ProductInventory.csv\n",
      "Table Production.TransactionHistoryArchive exportée avec succès dans csv/Production_TransactionHistoryArchive.csv\n",
      "Table Production.WorkOrder exportée avec succès dans csv/Production_WorkOrder.csv\n",
      "Table Production.Illustration exportée avec succès dans csv/Production_Illustration.csv\n",
      "Table Production.ProductDescription exportée avec succès dans csv/Production_ProductDescription.csv\n",
      "Table Production.Product exportée avec succès dans csv/Production_Product.csv\n",
      "Table Production.Location exportée avec succès dans csv/Production_Location.csv\n",
      "Table Production.ProductProductPhoto exportée avec succès dans csv/Production_ProductProductPhoto.csv\n",
      "Table Production.UnitMeasure exportée avec succès dans csv/Production_UnitMeasure.csv\n",
      "Table Production.ProductCategory exportée avec succès dans csv/Production_ProductCategory.csv\n",
      "Table Production.TransactionHistory exportée avec succès dans csv/Production_TransactionHistory.csv\n",
      "Erreur lors de l'exportation de la table Production.ProductDocument : ('ODBC SQL type -151 is not yet supported.  column-index=1  type=-151', 'HY106')\n",
      "Erreur lors de l'exportation de la table Production.Document : ('ODBC SQL type -151 is not yet supported.  column-index=0  type=-151', 'HY106')\n",
      "Table Production.Culture exportée avec succès dans csv/Production_Culture.csv\n",
      "Table Production.WorkOrderRouting exportée avec succès dans csv/Production_WorkOrderRouting.csv\n",
      "Table Production.ProductCostHistory exportée avec succès dans csv/Production_ProductCostHistory.csv\n",
      "Table Production.ProductReview exportée avec succès dans csv/Production_ProductReview.csv\n",
      "Table Production.BillOfMaterials exportée avec succès dans csv/Production_BillOfMaterials.csv\n",
      "Table Production.ProductModelIllustration exportée avec succès dans csv/Production_ProductModelIllustration.csv\n",
      "Table Production.ProductPhoto exportée avec succès dans csv/Production_ProductPhoto.csv\n",
      "Table Production.ProductModelProductDescriptionCulture exportée avec succès dans csv/Production_ProductModelProductDescriptionCulture.csv\n",
      "Table Production.ProductSubcategory exportée avec succès dans csv/Production_ProductSubcategory.csv\n",
      "Table Production.ScrapReason exportée avec succès dans csv/Production_ScrapReason.csv\n",
      "Table Production.ProductModel exportée avec succès dans csv/Production_ProductModel.csv\n",
      "Table Production.ProductListPriceHistory exportée avec succès dans csv/Production_ProductListPriceHistory.csv\n",
      "Table Purchasing.PurchaseOrderHeader exportée avec succès dans csv/Purchasing_PurchaseOrderHeader.csv\n",
      "Table Purchasing.PurchaseOrderDetail exportée avec succès dans csv/Purchasing_PurchaseOrderDetail.csv\n",
      "Table Purchasing.Vendor exportée avec succès dans csv/Purchasing_Vendor.csv\n",
      "Table Purchasing.ProductVendor exportée avec succès dans csv/Purchasing_ProductVendor.csv\n",
      "Table Purchasing.ShipMethod exportée avec succès dans csv/Purchasing_ShipMethod.csv\n",
      "Table Sales.SalesPersonQuotaHistory exportée avec succès dans csv/Sales_SalesPersonQuotaHistory.csv\n",
      "Table Sales.Customer exportée avec succès dans csv/Sales_Customer.csv\n",
      "Table Sales.CurrencyRate exportée avec succès dans csv/Sales_CurrencyRate.csv\n",
      "Table Sales.CountryRegionCurrency exportée avec succès dans csv/Sales_CountryRegionCurrency.csv\n",
      "Table Sales.PersonCreditCard exportée avec succès dans csv/Sales_PersonCreditCard.csv\n",
      "Table Sales.SalesOrderDetail exportée avec succès dans csv/Sales_SalesOrderDetail.csv\n",
      "Table Sales.SalesPerson exportée avec succès dans csv/Sales_SalesPerson.csv\n",
      "Table Sales.SpecialOfferProduct exportée avec succès dans csv/Sales_SpecialOfferProduct.csv\n",
      "Table Sales.SalesTaxRate exportée avec succès dans csv/Sales_SalesTaxRate.csv\n",
      "Table Sales.SalesTerritoryHistory exportée avec succès dans csv/Sales_SalesTerritoryHistory.csv\n",
      "Table Sales.SalesOrderHeader exportée avec succès dans csv/Sales_SalesOrderHeader.csv\n",
      "Table Sales.Currency exportée avec succès dans csv/Sales_Currency.csv\n",
      "Table Sales.ShoppingCartItem exportée avec succès dans csv/Sales_ShoppingCartItem.csv\n",
      "Table Sales.SalesReason exportée avec succès dans csv/Sales_SalesReason.csv\n",
      "Table Sales.SalesTerritory exportée avec succès dans csv/Sales_SalesTerritory.csv\n",
      "Table Sales.CreditCard exportée avec succès dans csv/Sales_CreditCard.csv\n",
      "Table Sales.SalesOrderHeaderSalesReason exportée avec succès dans csv/Sales_SalesOrderHeaderSalesReason.csv\n",
      "Table HumanResources.Shift exportée avec succès dans csv/HumanResources_Shift.csv\n",
      "Table Sales.SpecialOffer exportée avec succès dans csv/Sales_SpecialOffer.csv\n",
      "Table HumanResources.EmployeePayHistory exportée avec succès dans csv/HumanResources_EmployeePayHistory.csv\n",
      "Table Sales.Store exportée avec succès dans csv/Sales_Store.csv\n",
      "Table HumanResources.JobCandidate exportée avec succès dans csv/HumanResources_JobCandidate.csv\n",
      "Table dbo.AWBuildVersion exportée avec succès dans csv/dbo_AWBuildVersion.csv\n",
      "Erreur lors de l'exportation de la table HumanResources.Employee : ('ODBC SQL type -151 is not yet supported.  column-index=3  type=-151', 'HY106')\n",
      "Table dbo.DatabaseLog exportée avec succès dans csv/dbo_DatabaseLog.csv\n",
      "Table HumanResources.Department exportée avec succès dans csv/HumanResources_Department.csv\n",
      "Table dbo.ErrorLog exportée avec succès dans csv/dbo_ErrorLog.csv\n",
      "Table HumanResources.EmployeeDepartmentHistory exportée avec succès dans csv/HumanResources_EmployeeDepartmentHistory.csv\n",
      "Erreur lors de l'exportation de la table Person.Address : ('ODBC SQL type -151 is not yet supported.  column-index=6  type=-151', 'HY106')\n"
     ]
    },
    {
     "name": "stderr",
     "output_type": "stream",
     "text": [
      "/tmp/ipykernel_22906/2104957209.py:15: UserWarning: pandas only supports SQLAlchemy connectable (engine/connection) or database string URI or sqlite3 DBAPI2 connection. Other DBAPI2 objects are not tested. Please consider using SQLAlchemy.\n",
      "  df = pd.read_sql(query, conn)\n"
     ]
    },
    {
     "name": "stdout",
     "output_type": "stream",
     "text": [
      "Table Person.BusinessEntityAddress exportée avec succès dans csv/Person_BusinessEntityAddress.csv\n",
      "Table Person.BusinessEntityContact exportée avec succès dans csv/Person_BusinessEntityContact.csv\n"
     ]
    }
   ],
   "source": [
    "# Récupérer la liste des tables\n",
    "query_tables = \"\"\"\n",
    "SELECT TABLE_SCHEMA + '.' + TABLE_NAME AS FullTableName\n",
    "FROM INFORMATION_SCHEMA.TABLES\n",
    "WHERE TABLE_TYPE = 'BASE TABLE'\n",
    "\"\"\"\n",
    "df_tables = pd.read_sql(query_tables, conn)\n",
    "\n",
    "# Boucle sur les tables pour sauvegarder en CSV\n",
    "for index, row in df_tables.iterrows():\n",
    "    table_name = row['FullTableName']\n",
    "    try:\n",
    "        # Charger les données de la table dans un DataFrame\n",
    "        query = f\"SELECT * FROM {table_name}\"\n",
    "        df = pd.read_sql(query, conn)\n",
    "        \n",
    "        # Nom du fichier CSV\n",
    "        file_name = f\"{table_name.replace('.', '_')}.csv\"\n",
    "        file_path = os.path.join(output_dir, file_name)\n",
    "        \n",
    "        # Sauvegarder en CSV\n",
    "        df.to_csv(file_path, index=False, sep=';', encoding='utf-8')\n",
    "        print(f\"Table {table_name} exportée avec succès dans {file_path}\")\n",
    "    except Exception as e:\n",
    "        print(f\"Erreur lors de l'exportation de la table {table_name} : {e}\")"
   ]
  },
  {
   "cell_type": "code",
   "execution_count": 5,
   "metadata": {},
   "outputs": [],
   "source": [
    "\n",
    "# Fermer la connexion\n",
    "conn.close()\n",
    "\n",
    "# Fermer la connexion une fois que vous avez terminé"
   ]
  }
 ],
 "metadata": {
  "kernelspec": {
   "display_name": "venv",
   "language": "python",
   "name": "python3"
  },
  "language_info": {
   "codemirror_mode": {
    "name": "ipython",
    "version": 3
   },
   "file_extension": ".py",
   "mimetype": "text/x-python",
   "name": "python",
   "nbconvert_exporter": "python",
   "pygments_lexer": "ipython3",
   "version": "3.12.3"
  }
 },
 "nbformat": 4,
 "nbformat_minor": 2
}
