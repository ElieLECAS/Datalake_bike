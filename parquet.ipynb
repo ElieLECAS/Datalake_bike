{
 "cells": [
  {
   "cell_type": "code",
   "execution_count": null,
   "metadata": {
    "vscode": {
     "languageId": "plaintext"
    }
   },
   "outputs": [],
   "source": [
    "from azure.storage.blob import BlobServiceClient\n",
    "\n",
    "# Remplacez par vos informations\n",
    "account_name = \"<NOM_DU_COMPTE_DE_STOCKAGE>\"\n",
    "account_key = \"<VOTRE_CLÉ_D_ACCÈS>\"\n",
    "container_name = \"<NOM_DU_CONTENEUR>\"\n",
    "\n",
    "# Créer une connexion BlobServiceClient\n",
    "blob_service_client = BlobServiceClient(\n",
    "    f\"https://{account_name}.blob.core.windows.net\",\n",
    "    credential=account_key\n",
    ")\n",
    "\n",
    "# Accéder à un conteneur\n",
    "container_client = blob_service_client.get_container_client(container_name)\n",
    "\n",
    "print(f\"Connexion réussie au conteneur {container_name}.\")\n",
    "\n",
    "# Liste des blobs (fichiers) dans le conteneur\n",
    "print(\"Blobs disponibles :\")\n",
    "for blob in container_client.list_blobs():\n",
    "    print(blob.name)\n"
   ]
  }
 ],
 "metadata": {
  "language_info": {
   "name": "python"
  }
 },
 "nbformat": 4,
 "nbformat_minor": 2
}
